{
 "cells": [
  {
   "cell_type": "code",
   "execution_count": null,
   "metadata": {},
   "outputs": [],
   "source": [
    "from pyspark.sql import SparkSession, SQLContext\n",
    "from creds import USERNAME as UNAME\n",
    "from creds import PASSWORD as PASS\n",
    "\n",
    "URL = \"jdbc:mysql://localhost:3306/main3\"\n",
    "\n",
    "spark = SparkSession \\\n",
    "    .builder \\\n",
    "    .appName(\"Database access example\") \\\n",
    "    .config('spark.driver.extraClassPath', './mysql-connector-java-8.0.16.jar') \\\n",
    "    .getOrCreate()\n",
    "# TODO: research the .config options\n",
    "\n",
    "\n",
    "sc = spark.sparkContext\n",
    "sql_context = SQLContext(sc)\n",
    "sc.setLogLevel(\"INFO\")\n",
    "\n",
    "\n",
    "def get_table(tablename):\n",
    "    \"\"\"\n",
    "    Loads in a dataframe from the database using the tablename\n",
    "    \"\"\"\n",
    "    return sql_context.read.format(\"jdbc\").options(\n",
    "    url=URL,\n",
    "    dbtable = tablename,\n",
    "    user=UNAME,\n",
    "    password=PASS).load()\n",
    "\n",
    "\n",
    "def main():\n",
    "    \n",
    "    # pull all the individual tables from the main db\n",
    "    answer = get_table(\"answer\")\n",
    "    user = get_table(\"user\")\n",
    "    site = get_table(\"site\")\n",
    "    tag = get_table(\"tag\")\n",
    "    comment = get_table(\"comment\")    \n",
    "    post = get_table(\"post\")\n",
    "    question = get_table(\"question\")\n",
    "    describes = get_table(\"describes\")\n",
    "\n",
    "    answer.show()\n",
    "    user.show()\n",
    "    site.show()\n",
    "    tag.show()\n",
    "    comment.show()\n",
    "    post.show()\n",
    "    question.show()\n",
    "    describes.show()\n",
    "\n",
    "main()\n",
    "\n"
   ]
  },
  {
   "cell_type": "code",
   "execution_count": null,
   "metadata": {},
   "outputs": [],
   "source": [
    "spark.sparkContext._conf.getAll() "
   ]
  }
 ],
 "metadata": {
  "kernelspec": {
   "display_name": "Python 3",
   "language": "python",
   "name": "python3"
  },
  "language_info": {
   "codemirror_mode": {
    "name": "ipython",
    "version": 3
   },
   "file_extension": ".py",
   "mimetype": "text/x-python",
   "name": "python",
   "nbconvert_exporter": "python",
   "pygments_lexer": "ipython3",
   "version": "3.6.8"
  }
 },
 "nbformat": 4,
 "nbformat_minor": 2
}
